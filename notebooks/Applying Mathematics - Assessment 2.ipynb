{
 "metadata": {
  "name": ""
 },
 "nbformat": 3,
 "nbformat_minor": 0,
 "worksheets": [
  {
   "cells": [
    {
     "cell_type": "markdown",
     "metadata": {},
     "source": [
      "All questions are (number)(letter), so to find question 2a, just do &lt;Ctrl-F&gt;2a"
     ]
    },
    {
     "cell_type": "markdown",
     "metadata": {},
     "source": [
      "Some standard library imports"
     ]
    },
    {
     "cell_type": "code",
     "collapsed": false,
     "input": [
      "from io import StringIO\n",
      "from functools import wraps\n",
      "from functools import partial\n",
      "from operator import itemgetter\n",
      "from collections import defaultdict\n",
      "from csv import DictReader, DictWriter"
     ],
     "language": "python",
     "metadata": {},
     "outputs": [],
     "prompt_number": 3
    },
    {
     "cell_type": "markdown",
     "metadata": {},
     "source": [
      "Imports for web requests, and data manipulation and display"
     ]
    },
    {
     "cell_type": "code",
     "collapsed": false,
     "input": [
      "# web requests\n",
      "import requests\n",
      "\n",
      "# to display and process data\n",
      "%pylab inline\n",
      "import ipy_table as pyt\n",
      "import prettyplotlib as ppl"
     ],
     "language": "python",
     "metadata": {},
     "outputs": [
      {
       "output_type": "stream",
       "stream": "stdout",
       "text": [
        "Populating the interactive namespace from numpy and matplotlib\n"
       ]
      }
     ],
     "prompt_number": 4
    },
    {
     "cell_type": "markdown",
     "metadata": {},
     "source": [
      "Pull in the survey data"
     ]
    },
    {
     "cell_type": "code",
     "collapsed": false,
     "input": [
      "r = requests.get(\n",
      "    url='https://docs.google.com/spreadsheet/ccc',\n",
      "    params={\n",
      "        'key': '0ApTk7F_aw6vqdGE4b0VLZTBkMmwyZk5RNV9lbC1Nb1E',\n",
      "        'output': 'csv'\n",
      "    }\n",
      ")\n",
      "    \n",
      "data = list(DictReader(StringIO(r.text)))"
     ],
     "language": "python",
     "metadata": {},
     "outputs": [],
     "prompt_number": 5
    },
    {
     "cell_type": "markdown",
     "metadata": {},
     "source": [
      "Some useful functions"
     ]
    },
    {
     "cell_type": "code",
     "collapsed": false,
     "input": [
      "def surveys_for(field, value):\n",
      "    return filter(lambda r: r[field] == value, data)\n",
      "\n",
      "\n",
      "surveys_for_catagory = partial(surveys_for, 'Occupation Catagory')\n",
      "for_gender = partial(surveys_for, 'Gender')\n",
      "\n",
      "\n",
      "def for_field(field, spec=None):\n",
      "    return list(map(itemgetter(field), spec or data))\n",
      "\n",
      "def ints(seq):\n",
      "    return list(map(int, seq))\n",
      "\n",
      "def calc_mus(data):\n",
      "    rows = []\n",
      "    for row in data:\n",
      "        cur_total = 0\n",
      "        for field in ACTIVITIES:\n",
      "            cur_total += int(row[field])\n",
      "        row['MUS'] = cur_total\n",
      "    return data\n"
     ],
     "language": "python",
     "metadata": {},
     "outputs": [],
     "prompt_number": 6
    },
    {
     "cell_type": "markdown",
     "metadata": {},
     "source": [
      "And some useful constants;"
     ]
    },
    {
     "cell_type": "code",
     "collapsed": false,
     "input": [
      "ACTIVITIES = ['Recording Data', 'Interpreting Data', 'Using Operations', 'Estimating', 'Using a Calculator', 'Problem Solving']\n",
      "CATAGORIES = {\n",
      "    'BU': 'Business',\n",
      "    'HS': 'Health Sciences',\n",
      "    'HU': 'Humanities'\n",
      "}"
     ],
     "language": "python",
     "metadata": {},
     "outputs": [],
     "prompt_number": 7
    },
    {
     "cell_type": "markdown",
     "metadata": {},
     "source": [
      "Calculate and add the MUS data, sort the genders"
     ]
    },
    {
     "cell_type": "code",
     "collapsed": false,
     "input": [
      "data = calc_mus(data)\n",
      "\n",
      "females = list(for_gender('F'))\n",
      "males = list(for_gender('M'))"
     ],
     "language": "python",
     "metadata": {},
     "outputs": [],
     "prompt_number": 8
    },
    {
     "cell_type": "heading",
     "level": 2,
     "metadata": {},
     "source": [
      "2a"
     ]
    },
    {
     "cell_type": "code",
     "collapsed": false,
     "input": [
      "males_mus = for_field('MUS', males)\n",
      "\n",
      "print('Male average:', np.mean(males_mus))"
     ],
     "language": "python",
     "metadata": {},
     "outputs": [
      {
       "output_type": "stream",
       "stream": "stdout",
       "text": [
        "Male average: 7.78571428571\n"
       ]
      }
     ],
     "prompt_number": 9
    },
    {
     "cell_type": "heading",
     "level": 2,
     "metadata": {},
     "source": [
      "2b"
     ]
    },
    {
     "cell_type": "code",
     "collapsed": false,
     "input": [
      "females_mus = for_field('MUS', females)\n",
      "\n",
      "print('Female average:', np.mean(females_mus))"
     ],
     "language": "python",
     "metadata": {},
     "outputs": [
      {
       "output_type": "stream",
       "stream": "stdout",
       "text": [
        "Female average: 8.25\n"
       ]
      }
     ],
     "prompt_number": 10
    },
    {
     "cell_type": "heading",
     "level": 2,
     "metadata": {},
     "source": [
      "2c"
     ]
    },
    {
     "cell_type": "markdown",
     "metadata": {},
     "source": [
      "Judging by these results, I would say that females use math more than males.\n",
      "Perhaps because they tend towards business roles?"
     ]
    },
    {
     "cell_type": "heading",
     "level": 2,
     "metadata": {},
     "source": [
      "3a"
     ]
    },
    {
     "cell_type": "code",
     "collapsed": false,
     "input": [
      "IMPORTANCE = {\n",
      "    'V': 2,  # Very important\n",
      "    'I': 1,  # Important\n",
      "    'N': 0   # Not important\n",
      "}"
     ],
     "language": "python",
     "metadata": {},
     "outputs": [],
     "prompt_number": 11
    },
    {
     "cell_type": "heading",
     "level": 2,
     "metadata": {},
     "source": [
      "3b"
     ]
    },
    {
     "cell_type": "code",
     "collapsed": false,
     "input": [
      "male_importance = map(itemgetter('Importance Of Math'), males)\n",
      "male_importance = list(map(IMPORTANCE.get, male_importance))\n",
      "male_result = round(np.mean(male_importance), 2)"
     ],
     "language": "python",
     "metadata": {},
     "outputs": [],
     "prompt_number": 12
    },
    {
     "cell_type": "code",
     "collapsed": false,
     "input": [
      "female_importance = map(itemgetter('Importance Of Math'), females)\n",
      "female_importance = list(map(IMPORTANCE.get, female_importance))\n",
      "female_result = round(np.mean(female_importance), 2)"
     ],
     "language": "python",
     "metadata": {},
     "outputs": [],
     "prompt_number": 13
    },
    {
     "cell_type": "code",
     "collapsed": false,
     "input": [
      "pyt.make_table([\n",
      "    ('Average female importantance of math', female_result),\n",
      "    ('Average male importantance of math', male_result)\n",
      "])"
     ],
     "language": "python",
     "metadata": {},
     "outputs": [
      {
       "html": [
        "<table border=\"1\" cellpadding=\"3\" cellspacing=\"0\"  style=\"border:1px solid black;border-collapse:collapse;\"><tr><td>Average&nbspfemale&nbspimportantance&nbspof&nbspmath</td><td>1.31</td></tr><tr><td>Average&nbspmale&nbspimportantance&nbspof&nbspmath</td><td>1.36</td></tr></table>"
       ],
       "metadata": {},
       "output_type": "pyout",
       "prompt_number": 14,
       "text": [
        "<ipy_table.IpyTable at 0x6aabc88>"
       ]
      }
     ],
     "prompt_number": 14
    },
    {
     "cell_type": "markdown",
     "metadata": {},
     "source": [
      "It would seem that males rate maths as being more important for their jobs than females."
     ]
    },
    {
     "cell_type": "heading",
     "level": 2,
     "metadata": {},
     "source": [
      "4a"
     ]
    },
    {
     "cell_type": "markdown",
     "metadata": {},
     "source": [
      "Perhaps the older they are, the more used to using maths directly they are? As opposed through an abstraction such as a computer? Might this affect how much they perceive themselves as relying on math?\n",
      "\n",
      "Essentially;\n",
      "> Group all people by age group,\n",
      "> determine average perceived reliance on mathematics?"
     ]
    },
    {
     "cell_type": "heading",
     "level": 2,
     "metadata": {},
     "source": [
      "4b"
     ]
    },
    {
     "cell_type": "code",
     "collapsed": false,
     "input": [
      "# sort people into their age groups\n",
      "ages = defaultdict(list)\n",
      "for row in data:\n",
      "    ages[row['Age']].append(row)\n",
      "\n",
      "# determine averages of each age group, round to 2 decimal places\n",
      "rating_to_age = {}\n",
      "for age, people in ages.items():\n",
      "    rating = for_field('MUS', people)\n",
      "    rating_to_age[age] = round(np.mean(rating), 2)\n",
      "\n",
      "# sort by age range\n",
      "table_rating_to_age = sorted(rating_to_age.items(), key=lambda r: r[0])\n",
      "\n",
      "pyt.make_table([['Age Range', 'Rating']] + table_rating_to_age)\n",
      "pyt.apply_theme('basic')"
     ],
     "language": "python",
     "metadata": {},
     "outputs": [
      {
       "html": [
        "<table border=\"1\" cellpadding=\"3\" cellspacing=\"0\"  style=\"border:1px solid black;border-collapse:collapse;\"><tr><td  style=\"background-color:LightGray;\"><b>Age&nbspRange</b></td><td  style=\"background-color:LightGray;\"><b>Rating</b></td></tr><tr><td  style=\"background-color:Ivory;\">15-19</td><td  style=\"background-color:Ivory;\">11.0</td></tr><tr><td  style=\"background-color:AliceBlue;\">20-29</td><td  style=\"background-color:AliceBlue;\">7.4</td></tr><tr><td  style=\"background-color:Ivory;\">30-39</td><td  style=\"background-color:Ivory;\">9.43</td></tr><tr><td  style=\"background-color:AliceBlue;\">40-49</td><td  style=\"background-color:AliceBlue;\">7.7</td></tr><tr><td  style=\"background-color:Ivory;\">50-59</td><td  style=\"background-color:Ivory;\">6.5</td></tr></table>"
       ],
       "metadata": {},
       "output_type": "pyout",
       "prompt_number": 26,
       "text": [
        "<ipy_table.IpyTable at 0x8f74748>"
       ]
      }
     ],
     "prompt_number": 26
    },
    {
     "cell_type": "code",
     "collapsed": false,
     "input": [
      "# grab the names and values in the appropriate order\n",
      "rating_to_age_names = list(rating_to_age.keys())\n",
      "rating_to_age_names = sorted(rating_to_age_names)\n",
      "rating_to_age_values = list(map(rating_to_age.get, rating_to_age_names))\n",
      "\n",
      "index = np.arange(len(rating_to_age))\n",
      "bar_width = 0.35\n",
      "\n",
      "ppl.bar(index, rating_to_age_values, bar_width)\n",
      "plt.title('Age range to average rating')\n",
      "plt.xticks(index + bar_width, rating_to_age_names)\n",
      "plt.ylabel('Rating')\n",
      "None"
     ],
     "language": "python",
     "metadata": {},
     "outputs": [
      {
       "metadata": {},
       "output_type": "display_data",
       "png": "[encoded data removed]",
       "text": [
        "<matplotlib.figure.Figure at 0x96b34e0>"
       ]
      }
     ],
     "prompt_number": 43
    },
    {
     "cell_type": "heading",
     "level": 2,
     "metadata": {},
     "source": [
      "5a"
     ]
    },
    {
     "cell_type": "code",
     "collapsed": false,
     "input": [
      "mus = for_field('MUS', data)\n",
      "\n",
      "ppl.hist(mus)\n",
      "plt.title('Mathematical Usage Scores')\n",
      "plt.ylabel('Freq')\n",
      "plt.xlabel('Score ranges')\n",
      "None"
     ],
     "language": "python",
     "metadata": {},
     "outputs": [
      {
       "metadata": {},
       "output_type": "display_data",
       "png": "[encoded data removed]",
       "text": [
        "<matplotlib.figure.Figure at 0x93f20f0>"
       ]
      }
     ],
     "prompt_number": 29
    },
    {
     "cell_type": "heading",
     "level": 2,
     "metadata": {},
     "source": [
      "5b"
     ]
    },
    {
     "cell_type": "markdown",
     "metadata": {},
     "source": [
      "The histogram shows a large clumping of people perceiving their jobs as requiring mathematics in high quantity, with another clump showing people who do not perceive it as being as important.\n",
      "\n",
      "We can conclude that people in Business, the Humanities, and the Health Sciences perceive their jobs as requiring maths in quantity."
     ]
    },
    {
     "cell_type": "heading",
     "level": 2,
     "metadata": {},
     "source": [
      "6a"
     ]
    },
    {
     "cell_type": "code",
     "collapsed": false,
     "input": [
      "# calculate the sums of the different catagories\n",
      "activities_to_use = {}\n",
      "for field in ACTIVITIES:\n",
      "    values = for_field(field)\n",
      "    activities_to_use[field] = sum(ints(values))\n",
      "\n",
      "# sort em by sum\n",
      "activities_to_use = sorted(activities_to_use.items(), key=lambda r: r[1], reverse=True)\n",
      "\n",
      "pyt.make_table([['Activity', 'Sum']] + activities_to_use)\n",
      "pyt.apply_theme('basic')"
     ],
     "language": "python",
     "metadata": {},
     "outputs": [
      {
       "html": [
        "<table border=\"1\" cellpadding=\"3\" cellspacing=\"0\"  style=\"border:1px solid black;border-collapse:collapse;\"><tr><td  style=\"background-color:LightGray;\"><b>Activity</b></td><td  style=\"background-color:LightGray;\"><b>Sum</b></td></tr><tr><td  style=\"background-color:Ivory;\">Recording&nbspData</td><td  style=\"background-color:Ivory;\">51</td></tr><tr><td  style=\"background-color:AliceBlue;\">Interpreting&nbspData</td><td  style=\"background-color:AliceBlue;\">44</td></tr><tr><td  style=\"background-color:Ivory;\">Estimating</td><td  style=\"background-color:Ivory;\">38</td></tr><tr><td  style=\"background-color:AliceBlue;\">Problem&nbspSolving</td><td  style=\"background-color:AliceBlue;\">37</td></tr><tr><td  style=\"background-color:Ivory;\">Using&nbspOperations</td><td  style=\"background-color:Ivory;\">37</td></tr><tr><td  style=\"background-color:AliceBlue;\">Using&nbspa&nbspCalculator</td><td  style=\"background-color:AliceBlue;\">34</td></tr></table>"
       ],
       "metadata": {},
       "output_type": "pyout",
       "prompt_number": 17,
       "text": [
        "<ipy_table.IpyTable at 0x6ab6080>"
       ]
      }
     ],
     "prompt_number": 17
    },
    {
     "cell_type": "heading",
     "level": 2,
     "metadata": {},
     "source": [
      "6b"
     ]
    },
    {
     "cell_type": "markdown",
     "metadata": {},
     "source": [
      "Unsurprisingly, the recording of data is the most prevalent form of mathematics in the real world, as the simple act of recording data is perfomed everywhere, whilst using a calculator seems surprising uncommon."
     ]
    },
    {
     "cell_type": "heading",
     "level": 2,
     "metadata": {},
     "source": [
      "7"
     ]
    },
    {
     "cell_type": "code",
     "collapsed": false,
     "input": [
      "# calculate the average MUS values for the different profesions\n",
      "categories = {}\n",
      "for code in CATAGORIES.keys():\n",
      "    surveys = surveys_for('Occupation Catagory', code)\n",
      "    mus_values = for_field('MUS', surveys)\n",
      "\n",
      "    # get the appropriate name for the catagory\n",
      "    cat_name = CATAGORIES.get(code)\n",
      "    categories[cat_name] = round(\n",
      "         np.mean(mus_values), 2\n",
      "    )\n",
      "\n",
      "# sort by MUS average\n",
      "categories = sorted(categories.items(), key=lambda r: r[1], reverse=True)\n",
      "    \n",
      "pyt.make_table([['Category', 'Rating']] + categories)\n",
      "pyt.apply_theme('basic')"
     ],
     "language": "python",
     "metadata": {},
     "outputs": [
      {
       "html": [
        "<table border=\"1\" cellpadding=\"3\" cellspacing=\"0\"  style=\"border:1px solid black;border-collapse:collapse;\"><tr><td  style=\"background-color:LightGray;\"><b>Category</b></td><td  style=\"background-color:LightGray;\"><b>Rating</b></td></tr><tr><td  style=\"background-color:Ivory;\">Humanities</td><td  style=\"background-color:Ivory;\">9.44</td></tr><tr><td  style=\"background-color:AliceBlue;\">Business</td><td  style=\"background-color:AliceBlue;\">8.43</td></tr><tr><td  style=\"background-color:Ivory;\">Health&nbspSciences</td><td  style=\"background-color:Ivory;\">5.8</td></tr></table>"
       ],
       "metadata": {},
       "output_type": "pyout",
       "prompt_number": 18,
       "text": [
        "<ipy_table.IpyTable at 0x8f8fc88>"
       ]
      }
     ],
     "prompt_number": 18
    },
    {
     "cell_type": "markdown",
     "metadata": {},
     "source": [
      "It would seem that the humanities use the most math."
     ]
    },
    {
     "cell_type": "heading",
     "level": 2,
     "metadata": {},
     "source": [
      "Postscript"
     ]
    },
    {
     "cell_type": "markdown",
     "metadata": {},
     "source": [
      "This code generates a final `.csv` with the MUS included for all the records."
     ]
    },
    {
     "cell_type": "code",
     "collapsed": false,
     "input": [
      "keys = [\n",
      "    'Occupation', \n",
      "    'Occupation Catagory', \n",
      "    'Gender', \n",
      "    'Age', \n",
      "    'Years Uni', \n",
      "    'Importance Of Math', \n",
      "    'Recording Data', \n",
      "    'Interpreting Data', \n",
      "    'Using Operations', \n",
      "    'Estimating', \n",
      "    'Using a Calculator', \n",
      "    'Problem Solving',\n",
      "    'MUS'\n",
      "]\n",
      "\n",
      "with open('output.csv', 'w') as fh:\n",
      "    w = DictWriter(fh, keys)\n",
      "    \n",
      "    w.writeheader()\n",
      "    w.writerows(data)"
     ],
     "language": "python",
     "metadata": {},
     "outputs": [],
     "prompt_number": 19
    }
   ],
   "metadata": {}
  }
 ]
}